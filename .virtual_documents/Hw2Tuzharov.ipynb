import os
import numpy as np 
import pandas as pd
from scipy.stats import stats
import matplotlib.pyplot as plt


df = pd.read_csv('dz4.csv', sep = ';', index_col = False) ;
df['cheks'] = df['cheks'].round(3)
df.info(memory_usage='deep') ;
df.describe()





from statsmodels.stats.weightstats import ttest_ind


avg = (df.groupby('user_id')
                  ['cheks']
                  .mean()
                  .reset_index(name='Avg'))
num_tests = 1000
p_values = []


for i in range(num_tests):
    # Случайный выбор двух групп пользователей
    group1 = np.random.choice(avg['Avg'].values , 500)
    group2 = np.random.choice(avg['Avg'].values, 500)
    # Шаг 2: T-тест
    p_value = ttest_ind(group1, group2)
    p_values.append(p_value)
    i+=1


def plot_pvalue_distribution(dict_pvalues):
    """Рисует графики распределения p-value."""
    X = np.linspace(0, 1, 1000)
    for name, pvalues in dict_pvalues.items():
        Y = [np.mean(pvalues < x) for x in X]
        plt.plot(X, Y, label=name)

    plt.plot([0, 1], [0, 1], '--k', alpha=0.8)
    plt.title('Оценка распределения p-value', size=16)
    plt.xlabel('p-value', size=12)
    plt.legend(fontsize=12)
    plt.grid()
    plt.show()
    
alpha = 0.05

error_rate = np.mean(np.array(p_values) < alpha)
print(f'Доля ошибок первого рода: {error_rate:0.2f}')
plot_pvalue_distribution({'A/A': p_values})



























